{
 "cells": [
  {
   "cell_type": "markdown",
   "id": "681f109c",
   "metadata": {},
   "source": [
    "# Step 1: Installing Required Libraries in Jupyter Notebook"
   ]
  },
  {
   "cell_type": "code",
   "execution_count": 2,
   "id": "c8ee2fdd",
   "metadata": {},
   "outputs": [
    {
     "name": "stdout",
     "output_type": "stream",
     "text": [
      "Requirement already satisfied: tensorflow in c:\\users\\rjraj\\anaconda3\\lib\\site-packages (2.9.1)\n",
      "Requirement already satisfied: opt-einsum>=2.3.2 in c:\\users\\rjraj\\anaconda3\\lib\\site-packages (from tensorflow) (3.3.0)\n",
      "Requirement already satisfied: tensorflow-estimator<2.10.0,>=2.9.0rc0 in c:\\users\\rjraj\\anaconda3\\lib\\site-packages (from tensorflow) (2.9.0)\n",
      "Requirement already satisfied: keras<2.10.0,>=2.9.0rc0 in c:\\users\\rjraj\\anaconda3\\lib\\site-packages (from tensorflow) (2.9.0)\n",
      "Requirement already satisfied: tensorboard<2.10,>=2.9 in c:\\users\\rjraj\\anaconda3\\lib\\site-packages (from tensorflow) (2.9.0)\n",
      "Requirement already satisfied: grpcio<2.0,>=1.24.3 in c:\\users\\rjraj\\anaconda3\\lib\\site-packages (from tensorflow) (1.46.3)\n",
      "Requirement already satisfied: keras-preprocessing>=1.1.1 in c:\\users\\rjraj\\anaconda3\\lib\\site-packages (from tensorflow) (1.1.2)\n",
      "Requirement already satisfied: numpy>=1.20 in c:\\users\\rjraj\\anaconda3\\lib\\site-packages (from tensorflow) (1.20.3)\n",
      "Requirement already satisfied: wrapt>=1.11.0 in c:\\users\\rjraj\\anaconda3\\lib\\site-packages (from tensorflow) (1.14.1)\n",
      "Requirement already satisfied: gast<=0.4.0,>=0.2.1 in c:\\users\\rjraj\\anaconda3\\lib\\site-packages (from tensorflow) (0.4.0)\n",
      "Requirement already satisfied: absl-py>=1.0.0 in c:\\users\\rjraj\\anaconda3\\lib\\site-packages (from tensorflow) (1.1.0)\n",
      "Requirement already satisfied: libclang>=13.0.0 in c:\\users\\rjraj\\anaconda3\\lib\\site-packages (from tensorflow) (14.0.1)\n",
      "Requirement already satisfied: setuptools in c:\\users\\rjraj\\anaconda3\\lib\\site-packages (from tensorflow) (58.0.4)\n",
      "Requirement already satisfied: typing-extensions>=3.6.6 in c:\\users\\rjraj\\anaconda3\\lib\\site-packages (from tensorflow) (4.6.3)\n",
      "Requirement already satisfied: protobuf<3.20,>=3.9.2 in c:\\users\\rjraj\\anaconda3\\lib\\site-packages (from tensorflow) (3.19.4)\n",
      "Requirement already satisfied: termcolor>=1.1.0 in c:\\users\\rjraj\\anaconda3\\lib\\site-packages (from tensorflow) (1.1.0)\n",
      "Requirement already satisfied: six>=1.12.0 in c:\\users\\rjraj\\anaconda3\\lib\\site-packages (from tensorflow) (1.16.0)\n",
      "Requirement already satisfied: h5py>=2.9.0 in c:\\users\\rjraj\\anaconda3\\lib\\site-packages (from tensorflow) (3.2.1)\n",
      "Requirement already satisfied: packaging in c:\\users\\rjraj\\anaconda3\\lib\\site-packages (from tensorflow) (21.3)\n",
      "Requirement already satisfied: astunparse>=1.6.0 in c:\\users\\rjraj\\anaconda3\\lib\\site-packages (from tensorflow) (1.6.3)\n",
      "Requirement already satisfied: google-pasta>=0.1.1 in c:\\users\\rjraj\\anaconda3\\lib\\site-packages (from tensorflow) (0.2.0)\n",
      "Requirement already satisfied: tensorflow-io-gcs-filesystem>=0.23.1 in c:\\users\\rjraj\\anaconda3\\lib\\site-packages (from tensorflow) (0.26.0)\n",
      "Requirement already satisfied: flatbuffers<2,>=1.12 in c:\\users\\rjraj\\anaconda3\\lib\\site-packages (from tensorflow) (1.12)\n",
      "Requirement already satisfied: wheel<1.0,>=0.23.0 in c:\\users\\rjraj\\anaconda3\\lib\\site-packages (from astunparse>=1.6.0->tensorflow) (0.37.0)\n",
      "Requirement already satisfied: werkzeug>=1.0.1 in c:\\users\\rjraj\\anaconda3\\lib\\site-packages (from tensorboard<2.10,>=2.9->tensorflow) (2.0.2)\n",
      "Requirement already satisfied: google-auth<3,>=1.6.3 in c:\\users\\rjraj\\anaconda3\\lib\\site-packages (from tensorboard<2.10,>=2.9->tensorflow) (2.6.6)\n",
      "Requirement already satisfied: tensorboard-plugin-wit>=1.6.0 in c:\\users\\rjraj\\anaconda3\\lib\\site-packages (from tensorboard<2.10,>=2.9->tensorflow) (1.8.1)\n",
      "Requirement already satisfied: google-auth-oauthlib<0.5,>=0.4.1 in c:\\users\\rjraj\\anaconda3\\lib\\site-packages (from tensorboard<2.10,>=2.9->tensorflow) (0.4.6)\n",
      "Requirement already satisfied: requests<3,>=2.21.0 in c:\\users\\rjraj\\anaconda3\\lib\\site-packages (from tensorboard<2.10,>=2.9->tensorflow) (2.28.1)\n",
      "Requirement already satisfied: markdown>=2.6.8 in c:\\users\\rjraj\\anaconda3\\lib\\site-packages (from tensorboard<2.10,>=2.9->tensorflow) (3.3.7)\n",
      "Requirement already satisfied: tensorboard-data-server<0.7.0,>=0.6.0 in c:\\users\\rjraj\\anaconda3\\lib\\site-packages (from tensorboard<2.10,>=2.9->tensorflow) (0.6.1)\n",
      "Requirement already satisfied: rsa<5,>=3.1.4 in c:\\users\\rjraj\\anaconda3\\lib\\site-packages (from google-auth<3,>=1.6.3->tensorboard<2.10,>=2.9->tensorflow) (4.8)\n",
      "Requirement already satisfied: pyasn1-modules>=0.2.1 in c:\\users\\rjraj\\anaconda3\\lib\\site-packages (from google-auth<3,>=1.6.3->tensorboard<2.10,>=2.9->tensorflow) (0.2.8)\n",
      "Requirement already satisfied: cachetools<6.0,>=2.0.0 in c:\\users\\rjraj\\anaconda3\\lib\\site-packages (from google-auth<3,>=1.6.3->tensorboard<2.10,>=2.9->tensorflow) (5.2.0)\n",
      "Requirement already satisfied: requests-oauthlib>=0.7.0 in c:\\users\\rjraj\\anaconda3\\lib\\site-packages (from google-auth-oauthlib<0.5,>=0.4.1->tensorboard<2.10,>=2.9->tensorflow) (1.3.1)\n",
      "Requirement already satisfied: importlib-metadata>=4.4 in c:\\users\\rjraj\\anaconda3\\lib\\site-packages (from markdown>=2.6.8->tensorboard<2.10,>=2.9->tensorflow) (4.8.1)\n",
      "Requirement already satisfied: zipp>=0.5 in c:\\users\\rjraj\\anaconda3\\lib\\site-packages (from importlib-metadata>=4.4->markdown>=2.6.8->tensorboard<2.10,>=2.9->tensorflow) (3.6.0)\n",
      "Requirement already satisfied: pyasn1<0.5.0,>=0.4.6 in c:\\users\\rjraj\\anaconda3\\lib\\site-packages (from pyasn1-modules>=0.2.1->google-auth<3,>=1.6.3->tensorboard<2.10,>=2.9->tensorflow) (0.4.8)\n",
      "Requirement already satisfied: charset-normalizer<3,>=2 in c:\\users\\rjraj\\anaconda3\\lib\\site-packages (from requests<3,>=2.21.0->tensorboard<2.10,>=2.9->tensorflow) (2.0.4)\n",
      "Requirement already satisfied: certifi>=2017.4.17 in c:\\users\\rjraj\\anaconda3\\lib\\site-packages (from requests<3,>=2.21.0->tensorboard<2.10,>=2.9->tensorflow) (2021.10.8)\n",
      "Requirement already satisfied: urllib3<1.27,>=1.21.1 in c:\\users\\rjraj\\anaconda3\\lib\\site-packages (from requests<3,>=2.21.0->tensorboard<2.10,>=2.9->tensorflow) (1.26.16)\n",
      "Requirement already satisfied: idna<4,>=2.5 in c:\\users\\rjraj\\anaconda3\\lib\\site-packages (from requests<3,>=2.21.0->tensorboard<2.10,>=2.9->tensorflow) (3.2)\n",
      "Requirement already satisfied: oauthlib>=3.0.0 in c:\\users\\rjraj\\anaconda3\\lib\\site-packages (from requests-oauthlib>=0.7.0->google-auth-oauthlib<0.5,>=0.4.1->tensorboard<2.10,>=2.9->tensorflow) (3.2.0)\n",
      "Requirement already satisfied: pyparsing!=3.0.5,>=2.0.2 in c:\\users\\rjraj\\anaconda3\\lib\\site-packages (from packaging->tensorflow) (3.0.4)\n",
      "Requirement already satisfied: keras in c:\\users\\rjraj\\anaconda3\\lib\\site-packages (2.9.0)\n",
      "Requirement already satisfied: numpy in c:\\users\\rjraj\\anaconda3\\lib\\site-packages (1.20.3)\n",
      "Requirement already satisfied: pandas in c:\\users\\rjraj\\anaconda3\\lib\\site-packages (1.3.4)\n",
      "Requirement already satisfied: pytz>=2017.3 in c:\\users\\rjraj\\anaconda3\\lib\\site-packages (from pandas) (2021.3)\n",
      "Requirement already satisfied: numpy>=1.17.3 in c:\\users\\rjraj\\anaconda3\\lib\\site-packages (from pandas) (1.20.3)\n",
      "Requirement already satisfied: python-dateutil>=2.7.3 in c:\\users\\rjraj\\anaconda3\\lib\\site-packages (from pandas) (2.8.2)\n",
      "Requirement already satisfied: six>=1.5 in c:\\users\\rjraj\\anaconda3\\lib\\site-packages (from python-dateutil>=2.7.3->pandas) (1.16.0)\n",
      "Requirement already satisfied: matplotlib in c:\\users\\rjraj\\anaconda3\\lib\\site-packages (3.4.3)\n",
      "Requirement already satisfied: pyparsing>=2.2.1 in c:\\users\\rjraj\\anaconda3\\lib\\site-packages (from matplotlib) (3.0.4)\n",
      "Requirement already satisfied: cycler>=0.10 in c:\\users\\rjraj\\anaconda3\\lib\\site-packages (from matplotlib) (0.10.0)\n",
      "Requirement already satisfied: python-dateutil>=2.7 in c:\\users\\rjraj\\anaconda3\\lib\\site-packages (from matplotlib) (2.8.2)\n",
      "Requirement already satisfied: pillow>=6.2.0 in c:\\users\\rjraj\\anaconda3\\lib\\site-packages (from matplotlib) (8.4.0)\n",
      "Requirement already satisfied: kiwisolver>=1.0.1 in c:\\users\\rjraj\\anaconda3\\lib\\site-packages (from matplotlib) (1.3.1)\n",
      "Requirement already satisfied: numpy>=1.16 in c:\\users\\rjraj\\anaconda3\\lib\\site-packages (from matplotlib) (1.20.3)\n",
      "Requirement already satisfied: six in c:\\users\\rjraj\\anaconda3\\lib\\site-packages (from cycler>=0.10->matplotlib) (1.16.0)\n"
     ]
    }
   ],
   "source": [
    "# Install TensorFlow\n",
    "!pip install tensorflow\n",
    "\n",
    "# Install Keras \n",
    "!pip install keras\n",
    "\n",
    "# Install NumPy\n",
    "!pip install numpy\n",
    "\n",
    "# Install Pandas\n",
    "!pip install pandas\n",
    "\n",
    "# Install Matplotlib\n",
    "!pip install matplotlib"
   ]
  },
  {
   "cell_type": "markdown",
   "id": "4b4b9d75",
   "metadata": {},
   "source": [
    "# Step 2: Data Collection and Preprocessing"
   ]
  },
  {
   "cell_type": "markdown",
   "id": "90472fe8",
   "metadata": {},
   "source": [
    "## Data collection & Preprocessing"
   ]
  },
  {
   "cell_type": "code",
   "execution_count": 3,
   "id": "28a877f6",
   "metadata": {},
   "outputs": [],
   "source": [
    "# Load the dataset using UTF-8 encoding\n",
    "with open(\"Romeo-Juliet.txt\", \"r\", encoding=\"utf-8\") as file:\n",
    "    data = file.read()\n"
   ]
  },
  {
   "cell_type": "markdown",
   "id": "c107e37e",
   "metadata": {},
   "source": [
    "## Tokenization:"
   ]
  },
  {
   "cell_type": "code",
   "execution_count": 4,
   "id": "6de4377a",
   "metadata": {},
   "outputs": [],
   "source": [
    "from tensorflow.keras.preprocessing.text import Tokenizer\n",
    "\n",
    "# Tokenize the data\n",
    "tokenizer = Tokenizer(char_level=False, filters='')  # Set char_level=True for character level tokenization\n",
    "tokenizer.fit_on_texts([data])\n",
    "\n",
    "# Convert text to sequence of tokens\n",
    "sequence_data = tokenizer.texts_to_sequences([data])[0]\n"
   ]
  },
  {
   "cell_type": "markdown",
   "id": "7cdc6233",
   "metadata": {},
   "source": [
    "## Create Input and Target Sequences:\n",
    "\n",
    "### For training, we'll need input sequences and their corresponding target sequences (the next word in the sequence)."
   ]
  },
  {
   "cell_type": "code",
   "execution_count": 5,
   "id": "232aae1f",
   "metadata": {},
   "outputs": [],
   "source": [
    "# Create input and target sequences\n",
    "input_sequences = []\n",
    "for i in range(1, len(sequence_data)):\n",
    "    sequence = sequence_data[i-1:i+1]\n",
    "    input_sequences.append(sequence)\n",
    "\n",
    "import numpy as np\n",
    "\n",
    "# Split sequences into inputs and targets\n",
    "input_sequences = np.array(input_sequences)\n",
    "X, y = input_sequences[:, 0], input_sequences[:, 1]\n"
   ]
  },
  {
   "cell_type": "markdown",
   "id": "50c90d0d",
   "metadata": {},
   "source": [
    "## One-Hot Encoding:\n",
    "\n",
    "### Language models often use one-hot encoding for their target labels."
   ]
  },
  {
   "cell_type": "code",
   "execution_count": 6,
   "id": "61831ded",
   "metadata": {},
   "outputs": [],
   "source": [
    "from tensorflow.keras.utils import to_categorical\n",
    "\n",
    "# One-hot encode the output\n",
    "y = to_categorical(y, num_classes=len(tokenizer.word_index) + 1)\n"
   ]
  },
  {
   "cell_type": "markdown",
   "id": "bafd7fd0",
   "metadata": {},
   "source": [
    "## Step 3: Building the Language Model using LSTM"
   ]
  },
  {
   "cell_type": "code",
   "execution_count": 7,
   "id": "2bb9d6b1",
   "metadata": {},
   "outputs": [],
   "source": [
    "# Import necessary modules:\n",
    "\n",
    "from tensorflow.keras.models import Sequential\n",
    "from tensorflow.keras.layers import Embedding, LSTM, Dense\n"
   ]
  },
  {
   "cell_type": "markdown",
   "id": "8e3d4f4d",
   "metadata": {},
   "source": [
    "# Define the model architecture:"
   ]
  },
  {
   "cell_type": "code",
   "execution_count": 9,
   "id": "045c6911",
   "metadata": {},
   "outputs": [
    {
     "name": "stdout",
     "output_type": "stream",
     "text": [
      "Model: \"sequential\"\n",
      "_________________________________________________________________\n",
      " Layer (type)                Output Shape              Param #   \n",
      "=================================================================\n",
      " embedding (Embedding)       (None, 1, 50)             407000    \n",
      "                                                                 \n",
      " lstm (LSTM)                 (None, 100)               60400     \n",
      "                                                                 \n",
      " dense (Dense)               (None, 8140)              822140    \n",
      "                                                                 \n",
      "=================================================================\n",
      "Total params: 1,289,540\n",
      "Trainable params: 1,289,540\n",
      "Non-trainable params: 0\n",
      "_________________________________________________________________\n"
     ]
    }
   ],
   "source": [
    "# Define the model\n",
    "model = Sequential()\n",
    "\n",
    "# Add the embedding layer\n",
    "# The embedding layer turns positive integers (indexes) into dense vectors of fixed size.\n",
    "# len(tokenizer.word_index) + 1 gives us the total number of words. \n",
    "# We can choose the size of the embedding, here it's set to 50, but you can increase or decrease based on your requirements.\n",
    "model.add(Embedding(input_dim=len(tokenizer.word_index) + 1, output_dim=50, input_length=1))\n",
    "\n",
    "# Add an LSTM layer with 100 units/memory cells\n",
    "model.add(LSTM(100, return_sequences=False))  # 'return_sequences' is False here because we're connecting this LSTM layer to a dense layer\n",
    "\n",
    "# Add a dense layer with as many neurons as words, for each word's probability\n",
    "model.add(Dense(len(tokenizer.word_index) + 1, activation='softmax'))\n",
    "\n",
    "# Compile the model\n",
    "model.compile(loss='categorical_crossentropy', optimizer='adam', metrics=['accuracy'])\n",
    "\n",
    "# Display the summary of the model\n",
    "model.summary()\n"
   ]
  },
  {
   "cell_type": "markdown",
   "id": "4b033983",
   "metadata": {},
   "source": [
    "###  Training the Model:"
   ]
  },
  {
   "cell_type": "code",
   "execution_count": 10,
   "id": "017fb501",
   "metadata": {},
   "outputs": [
    {
     "name": "stdout",
     "output_type": "stream",
     "text": [
      "Epoch 1/100\n",
      "620/620 [==============================] - 10s 13ms/step - loss: 7.9530 - accuracy: 0.0270 - val_loss: 7.9418 - val_accuracy: 0.0436\n",
      "Epoch 2/100\n",
      "620/620 [==============================] - 7s 12ms/step - loss: 7.1350 - accuracy: 0.0275 - val_loss: 8.2773 - val_accuracy: 0.0434\n",
      "Epoch 3/100\n",
      "620/620 [==============================] - 8s 12ms/step - loss: 6.9401 - accuracy: 0.0294 - val_loss: 8.5987 - val_accuracy: 0.0484\n",
      "Epoch 4/100\n",
      "620/620 [==============================] - 8s 12ms/step - loss: 6.7713 - accuracy: 0.0401 - val_loss: 8.9159 - val_accuracy: 0.0519\n",
      "Epoch 5/100\n",
      "620/620 [==============================] - 7s 11ms/step - loss: 6.5884 - accuracy: 0.0472 - val_loss: 9.2031 - val_accuracy: 0.0502\n",
      "Epoch 6/100\n",
      "620/620 [==============================] - 7s 12ms/step - loss: 6.4087 - accuracy: 0.0535 - val_loss: 9.4059 - val_accuracy: 0.0515\n",
      "Epoch 7/100\n",
      "620/620 [==============================] - 7s 12ms/step - loss: 6.2219 - accuracy: 0.0677 - val_loss: 9.4806 - val_accuracy: 0.0525\n",
      "Epoch 8/100\n",
      "620/620 [==============================] - 7s 12ms/step - loss: 5.9965 - accuracy: 0.0871 - val_loss: 9.5334 - val_accuracy: 0.0569\n",
      "Epoch 9/100\n",
      "620/620 [==============================] - 8s 13ms/step - loss: 5.7256 - accuracy: 0.1188 - val_loss: 9.6448 - val_accuracy: 0.0603\n",
      "Epoch 10/100\n",
      "620/620 [==============================] - 8s 13ms/step - loss: 5.4448 - accuracy: 0.1422 - val_loss: 10.0370 - val_accuracy: 0.0583\n",
      "Epoch 11/100\n",
      "620/620 [==============================] - 8s 12ms/step - loss: 5.1609 - accuracy: 0.1692 - val_loss: 10.1493 - val_accuracy: 0.0547\n",
      "Epoch 12/100\n",
      "620/620 [==============================] - 8s 13ms/step - loss: 4.8756 - accuracy: 0.2040 - val_loss: 10.2804 - val_accuracy: 0.0561\n",
      "Epoch 13/100\n",
      "620/620 [==============================] - 7s 11ms/step - loss: 4.6068 - accuracy: 0.2361 - val_loss: 10.7283 - val_accuracy: 0.0527\n",
      "Epoch 14/100\n",
      "620/620 [==============================] - 7s 11ms/step - loss: 4.3606 - accuracy: 0.2659 - val_loss: 10.9157 - val_accuracy: 0.0575\n",
      "Epoch 15/100\n",
      "620/620 [==============================] - 7s 12ms/step - loss: 4.1382 - accuracy: 0.2946 - val_loss: 11.2071 - val_accuracy: 0.0581\n",
      "Epoch 16/100\n",
      "620/620 [==============================] - 7s 12ms/step - loss: 3.9443 - accuracy: 0.3184 - val_loss: 11.3066 - val_accuracy: 0.0591\n",
      "Epoch 17/100\n",
      "620/620 [==============================] - 7s 11ms/step - loss: 3.7696 - accuracy: 0.3382 - val_loss: 11.5109 - val_accuracy: 0.0585\n",
      "Epoch 18/100\n",
      "620/620 [==============================] - 7s 11ms/step - loss: 3.6177 - accuracy: 0.3502 - val_loss: 11.7709 - val_accuracy: 0.0587\n",
      "Epoch 19/100\n",
      "620/620 [==============================] - 8s 12ms/step - loss: 3.4876 - accuracy: 0.3608 - val_loss: 11.9587 - val_accuracy: 0.0575\n",
      "Epoch 20/100\n",
      "620/620 [==============================] - 7s 12ms/step - loss: 3.3751 - accuracy: 0.3608 - val_loss: 12.0861 - val_accuracy: 0.0615\n",
      "Epoch 21/100\n",
      "620/620 [==============================] - 8s 12ms/step - loss: 3.2795 - accuracy: 0.3631 - val_loss: 12.2581 - val_accuracy: 0.0599\n",
      "Epoch 22/100\n",
      "620/620 [==============================] - 8s 12ms/step - loss: 3.1996 - accuracy: 0.3637 - val_loss: 12.4908 - val_accuracy: 0.0585\n",
      "Epoch 23/100\n",
      "620/620 [==============================] - 8s 12ms/step - loss: 3.1311 - accuracy: 0.3628 - val_loss: 12.5940 - val_accuracy: 0.0599\n",
      "Epoch 24/100\n",
      "620/620 [==============================] - 7s 11ms/step - loss: 3.0770 - accuracy: 0.3649 - val_loss: 12.7439 - val_accuracy: 0.0603\n",
      "Epoch 25/100\n",
      "620/620 [==============================] - 7s 11ms/step - loss: 3.0291 - accuracy: 0.3638 - val_loss: 12.8770 - val_accuracy: 0.0611\n",
      "Epoch 26/100\n",
      "620/620 [==============================] - 7s 11ms/step - loss: 2.9911 - accuracy: 0.3597 - val_loss: 13.0468 - val_accuracy: 0.0609\n",
      "Epoch 27/100\n",
      "620/620 [==============================] - 7s 12ms/step - loss: 2.9563 - accuracy: 0.3610 - val_loss: 13.1448 - val_accuracy: 0.0619\n",
      "Epoch 28/100\n",
      "620/620 [==============================] - 7s 11ms/step - loss: 2.9287 - accuracy: 0.3610 - val_loss: 13.3137 - val_accuracy: 0.0533\n",
      "Epoch 29/100\n",
      "620/620 [==============================] - 7s 11ms/step - loss: 2.9042 - accuracy: 0.3598 - val_loss: 13.4064 - val_accuracy: 0.0617\n",
      "Epoch 30/100\n",
      "620/620 [==============================] - 7s 11ms/step - loss: 2.8833 - accuracy: 0.3600 - val_loss: 13.4904 - val_accuracy: 0.0573\n",
      "Epoch 31/100\n",
      "620/620 [==============================] - 7s 11ms/step - loss: 2.8622 - accuracy: 0.3590 - val_loss: 13.5829 - val_accuracy: 0.0555\n",
      "Epoch 32/100\n",
      "620/620 [==============================] - 7s 11ms/step - loss: 2.8478 - accuracy: 0.3608 - val_loss: 13.6337 - val_accuracy: 0.0587\n",
      "Epoch 33/100\n",
      "620/620 [==============================] - 7s 11ms/step - loss: 2.8311 - accuracy: 0.3587 - val_loss: 13.7561 - val_accuracy: 0.0632\n",
      "Epoch 34/100\n",
      "620/620 [==============================] - 7s 11ms/step - loss: 2.8176 - accuracy: 0.3600 - val_loss: 13.8044 - val_accuracy: 0.0597\n",
      "Epoch 35/100\n",
      "620/620 [==============================] - 7s 11ms/step - loss: 2.8059 - accuracy: 0.3603 - val_loss: 13.8740 - val_accuracy: 0.0591\n",
      "Epoch 36/100\n",
      "620/620 [==============================] - 7s 11ms/step - loss: 2.7955 - accuracy: 0.3590 - val_loss: 13.8864 - val_accuracy: 0.0621\n",
      "Epoch 37/100\n",
      "620/620 [==============================] - 7s 11ms/step - loss: 2.7851 - accuracy: 0.3608 - val_loss: 13.9489 - val_accuracy: 0.0581\n",
      "Epoch 38/100\n",
      "620/620 [==============================] - 7s 11ms/step - loss: 2.7759 - accuracy: 0.3596 - val_loss: 14.0205 - val_accuracy: 0.0609\n",
      "Epoch 39/100\n",
      "620/620 [==============================] - 7s 11ms/step - loss: 2.7679 - accuracy: 0.3578 - val_loss: 14.0502 - val_accuracy: 0.0585\n",
      "Epoch 40/100\n",
      "620/620 [==============================] - 7s 11ms/step - loss: 2.7591 - accuracy: 0.3594 - val_loss: 14.1363 - val_accuracy: 0.0559\n",
      "Epoch 41/100\n",
      "620/620 [==============================] - 7s 11ms/step - loss: 2.7536 - accuracy: 0.3589 - val_loss: 14.1484 - val_accuracy: 0.0583\n",
      "Epoch 42/100\n",
      "620/620 [==============================] - 7s 11ms/step - loss: 2.7459 - accuracy: 0.3604 - val_loss: 14.1428 - val_accuracy: 0.0573\n",
      "Epoch 43/100\n",
      "620/620 [==============================] - 7s 11ms/step - loss: 2.7398 - accuracy: 0.3582 - val_loss: 14.2721 - val_accuracy: 0.0587\n",
      "Epoch 44/100\n",
      "620/620 [==============================] - 7s 11ms/step - loss: 2.7349 - accuracy: 0.3596 - val_loss: 14.2270 - val_accuracy: 0.0593\n",
      "Epoch 45/100\n",
      "620/620 [==============================] - 7s 11ms/step - loss: 2.7282 - accuracy: 0.3604 - val_loss: 14.2731 - val_accuracy: 0.0573\n",
      "Epoch 46/100\n",
      "620/620 [==============================] - 7s 11ms/step - loss: 2.7238 - accuracy: 0.3595 - val_loss: 14.2835 - val_accuracy: 0.0559\n",
      "Epoch 47/100\n",
      "620/620 [==============================] - 7s 11ms/step - loss: 2.7209 - accuracy: 0.3576 - val_loss: 14.3411 - val_accuracy: 0.0595\n",
      "Epoch 48/100\n",
      "620/620 [==============================] - 7s 11ms/step - loss: 2.7159 - accuracy: 0.3585 - val_loss: 14.3553 - val_accuracy: 0.0579\n",
      "Epoch 49/100\n",
      "620/620 [==============================] - 7s 11ms/step - loss: 2.7120 - accuracy: 0.3587 - val_loss: 14.3760 - val_accuracy: 0.0589\n",
      "Epoch 50/100\n",
      "620/620 [==============================] - 7s 11ms/step - loss: 2.7090 - accuracy: 0.3591 - val_loss: 14.3434 - val_accuracy: 0.0585\n",
      "Epoch 51/100\n",
      "620/620 [==============================] - 7s 11ms/step - loss: 2.7044 - accuracy: 0.3593 - val_loss: 14.4657 - val_accuracy: 0.0583\n",
      "Epoch 52/100\n",
      "620/620 [==============================] - 7s 11ms/step - loss: 2.7017 - accuracy: 0.3575 - val_loss: 14.4475 - val_accuracy: 0.0591\n",
      "Epoch 53/100\n",
      "620/620 [==============================] - 7s 11ms/step - loss: 2.6977 - accuracy: 0.3578 - val_loss: 14.4469 - val_accuracy: 0.0591\n",
      "Epoch 54/100\n",
      "620/620 [==============================] - 7s 11ms/step - loss: 2.6954 - accuracy: 0.3587 - val_loss: 14.5439 - val_accuracy: 0.0557\n",
      "Epoch 55/100\n",
      "620/620 [==============================] - 7s 12ms/step - loss: 2.6926 - accuracy: 0.3577 - val_loss: 14.5164 - val_accuracy: 0.0587\n",
      "Epoch 56/100\n",
      "620/620 [==============================] - 8s 12ms/step - loss: 2.6884 - accuracy: 0.3594 - val_loss: 14.5054 - val_accuracy: 0.0579\n",
      "Epoch 57/100\n"
     ]
    },
    {
     "name": "stdout",
     "output_type": "stream",
     "text": [
      "620/620 [==============================] - 7s 12ms/step - loss: 2.6869 - accuracy: 0.3570 - val_loss: 14.5260 - val_accuracy: 0.0583\n",
      "Epoch 58/100\n",
      "620/620 [==============================] - 7s 11ms/step - loss: 2.6850 - accuracy: 0.3578 - val_loss: 14.5025 - val_accuracy: 0.0591\n",
      "Epoch 59/100\n",
      "620/620 [==============================] - 7s 11ms/step - loss: 2.6815 - accuracy: 0.3590 - val_loss: 14.5442 - val_accuracy: 0.0589\n",
      "Epoch 60/100\n",
      "620/620 [==============================] - 7s 11ms/step - loss: 2.6803 - accuracy: 0.3604 - val_loss: 14.6113 - val_accuracy: 0.0593\n",
      "Epoch 61/100\n",
      "620/620 [==============================] - 7s 11ms/step - loss: 2.6776 - accuracy: 0.3599 - val_loss: 14.5323 - val_accuracy: 0.0623\n",
      "Epoch 62/100\n",
      "620/620 [==============================] - 7s 12ms/step - loss: 2.6750 - accuracy: 0.3572 - val_loss: 14.5379 - val_accuracy: 0.0567\n",
      "Epoch 63/100\n",
      "620/620 [==============================] - 8s 13ms/step - loss: 2.6731 - accuracy: 0.3609 - val_loss: 14.6422 - val_accuracy: 0.0589\n",
      "Epoch 64/100\n",
      "620/620 [==============================] - 8s 13ms/step - loss: 2.6712 - accuracy: 0.3586 - val_loss: 14.6617 - val_accuracy: 0.0621\n",
      "Epoch 65/100\n",
      "620/620 [==============================] - 8s 13ms/step - loss: 2.6707 - accuracy: 0.3590 - val_loss: 14.6107 - val_accuracy: 0.0626\n",
      "Epoch 66/100\n",
      "620/620 [==============================] - 9s 14ms/step - loss: 2.6670 - accuracy: 0.3616 - val_loss: 14.6322 - val_accuracy: 0.0619\n",
      "Epoch 67/100\n",
      "620/620 [==============================] - 9s 14ms/step - loss: 2.6673 - accuracy: 0.3589 - val_loss: 14.7023 - val_accuracy: 0.0583\n",
      "Epoch 68/100\n",
      "620/620 [==============================] - 8s 12ms/step - loss: 2.6650 - accuracy: 0.3600 - val_loss: 14.7108 - val_accuracy: 0.0591\n",
      "Epoch 69/100\n",
      "620/620 [==============================] - 8s 13ms/step - loss: 2.6636 - accuracy: 0.3582 - val_loss: 14.7481 - val_accuracy: 0.0585\n",
      "Epoch 70/100\n",
      "620/620 [==============================] - 8s 13ms/step - loss: 2.6625 - accuracy: 0.3583 - val_loss: 14.6715 - val_accuracy: 0.0628\n",
      "Epoch 71/100\n",
      "620/620 [==============================] - 8s 12ms/step - loss: 2.6608 - accuracy: 0.3596 - val_loss: 14.6755 - val_accuracy: 0.0601\n",
      "Epoch 72/100\n",
      "620/620 [==============================] - 8s 13ms/step - loss: 2.6594 - accuracy: 0.3602 - val_loss: 14.6574 - val_accuracy: 0.0561\n",
      "Epoch 73/100\n",
      "620/620 [==============================] - 7s 12ms/step - loss: 2.6592 - accuracy: 0.3583 - val_loss: 14.7678 - val_accuracy: 0.0555\n",
      "Epoch 74/100\n",
      "620/620 [==============================] - 8s 12ms/step - loss: 2.6562 - accuracy: 0.3607 - val_loss: 14.7519 - val_accuracy: 0.0591\n",
      "Epoch 75/100\n",
      "620/620 [==============================] - 8s 13ms/step - loss: 2.6554 - accuracy: 0.3596 - val_loss: 14.7605 - val_accuracy: 0.0591\n",
      "Epoch 76/100\n",
      "620/620 [==============================] - 8s 13ms/step - loss: 2.6533 - accuracy: 0.3608 - val_loss: 14.7633 - val_accuracy: 0.0573\n",
      "Epoch 77/100\n",
      "620/620 [==============================] - 8s 13ms/step - loss: 2.6530 - accuracy: 0.3596 - val_loss: 14.8162 - val_accuracy: 0.0599\n",
      "Epoch 78/100\n",
      "620/620 [==============================] - 8s 13ms/step - loss: 2.6517 - accuracy: 0.3604 - val_loss: 14.7708 - val_accuracy: 0.0597\n",
      "Epoch 79/100\n",
      "620/620 [==============================] - 8s 12ms/step - loss: 2.6504 - accuracy: 0.3592 - val_loss: 14.8209 - val_accuracy: 0.0569\n",
      "Epoch 80/100\n",
      "620/620 [==============================] - 8s 12ms/step - loss: 2.6499 - accuracy: 0.3614 - val_loss: 14.8239 - val_accuracy: 0.0567\n",
      "Epoch 81/100\n",
      "620/620 [==============================] - 8s 12ms/step - loss: 2.6485 - accuracy: 0.3593 - val_loss: 14.7722 - val_accuracy: 0.0597\n",
      "Epoch 82/100\n",
      "620/620 [==============================] - 7s 12ms/step - loss: 2.6467 - accuracy: 0.3616 - val_loss: 14.8750 - val_accuracy: 0.0613\n",
      "Epoch 83/100\n",
      "620/620 [==============================] - 8s 13ms/step - loss: 2.6465 - accuracy: 0.3602 - val_loss: 14.8025 - val_accuracy: 0.0591\n",
      "Epoch 84/100\n",
      "620/620 [==============================] - 7s 12ms/step - loss: 2.6456 - accuracy: 0.3587 - val_loss: 14.8113 - val_accuracy: 0.0601\n",
      "Epoch 85/100\n",
      "620/620 [==============================] - 8s 13ms/step - loss: 2.6447 - accuracy: 0.3619 - val_loss: 14.8148 - val_accuracy: 0.0553\n",
      "Epoch 86/100\n",
      "620/620 [==============================] - 7s 12ms/step - loss: 2.6443 - accuracy: 0.3611 - val_loss: 14.9120 - val_accuracy: 0.0579\n",
      "Epoch 87/100\n",
      "620/620 [==============================] - 7s 11ms/step - loss: 2.6430 - accuracy: 0.3599 - val_loss: 14.8732 - val_accuracy: 0.0561\n",
      "Epoch 88/100\n",
      "620/620 [==============================] - 7s 11ms/step - loss: 2.6425 - accuracy: 0.3586 - val_loss: 14.8972 - val_accuracy: 0.0557\n",
      "Epoch 89/100\n",
      "620/620 [==============================] - 7s 11ms/step - loss: 2.6410 - accuracy: 0.3620 - val_loss: 14.8163 - val_accuracy: 0.0621\n",
      "Epoch 90/100\n",
      "620/620 [==============================] - 7s 11ms/step - loss: 2.6404 - accuracy: 0.3611 - val_loss: 14.8906 - val_accuracy: 0.0577\n",
      "Epoch 91/100\n",
      "620/620 [==============================] - 7s 11ms/step - loss: 2.6401 - accuracy: 0.3609 - val_loss: 14.9442 - val_accuracy: 0.0597\n",
      "Epoch 92/100\n",
      "620/620 [==============================] - 7s 11ms/step - loss: 2.6379 - accuracy: 0.3621 - val_loss: 14.9226 - val_accuracy: 0.0595\n",
      "Epoch 93/100\n",
      "620/620 [==============================] - 7s 11ms/step - loss: 2.6382 - accuracy: 0.3600 - val_loss: 14.9035 - val_accuracy: 0.0571\n",
      "Epoch 94/100\n",
      "620/620 [==============================] - 7s 11ms/step - loss: 2.6374 - accuracy: 0.3604 - val_loss: 14.8784 - val_accuracy: 0.0583\n",
      "Epoch 95/100\n",
      "620/620 [==============================] - 7s 11ms/step - loss: 2.6367 - accuracy: 0.3604 - val_loss: 14.9892 - val_accuracy: 0.0565\n",
      "Epoch 96/100\n",
      "620/620 [==============================] - 7s 11ms/step - loss: 2.6360 - accuracy: 0.3606 - val_loss: 14.8805 - val_accuracy: 0.0581\n",
      "Epoch 97/100\n",
      "620/620 [==============================] - 7s 11ms/step - loss: 2.6349 - accuracy: 0.3610 - val_loss: 15.0012 - val_accuracy: 0.0553\n",
      "Epoch 98/100\n",
      "620/620 [==============================] - 7s 11ms/step - loss: 2.6342 - accuracy: 0.3608 - val_loss: 15.0128 - val_accuracy: 0.0555\n",
      "Epoch 99/100\n",
      "620/620 [==============================] - 7s 11ms/step - loss: 2.6334 - accuracy: 0.3615 - val_loss: 15.0210 - val_accuracy: 0.0565\n",
      "Epoch 100/100\n",
      "620/620 [==============================] - 7s 11ms/step - loss: 2.6329 - accuracy: 0.3600 - val_loss: 15.0040 - val_accuracy: 0.0587\n"
     ]
    }
   ],
   "source": [
    "# Train the model\n",
    "history = model.fit(X, y, epochs=100, verbose=1, batch_size=32, validation_split=0.2)\n"
   ]
  },
  {
   "cell_type": "code",
   "execution_count": 14,
   "id": "85ae7518",
   "metadata": {},
   "outputs": [],
   "source": [
    "model.save('custom_llm_model.h5')"
   ]
  },
  {
   "cell_type": "markdown",
   "id": "4992ef1d",
   "metadata": {},
   "source": [
    "## Visualize Training History:\n",
    "\n",
    "### Visualizing the training and validation loss (and accuracy, if applicable) can give insights into the behavior of the model over epochs."
   ]
  },
  {
   "cell_type": "code",
   "execution_count": 11,
   "id": "780f8893",
   "metadata": {},
   "outputs": [
    {
     "data": {
      "image/png": "[encoded data removed]",
      "text/plain": [
       "<Figure size 1008x360 with 2 Axes>"
      ]
     },
     "metadata": {
      "needs_background": "light"
     },
     "output_type": "display_data"
    }
   ],
   "source": [
    "import matplotlib.pyplot as plt\n",
    "\n",
    "# Plotting the loss and accuracy curves\n",
    "plt.figure(figsize=(14, 5))\n",
    "\n",
    "# Loss Curves\n",
    "plt.subplot(1, 2, 1)\n",
    "plt.plot(history.history['loss'], label='Training Loss')\n",
    "plt.plot(history.history['val_loss'], label='Validation Loss')\n",
    "plt.legend()\n",
    "plt.title('Loss Curves')\n",
    "\n",
    "# Accuracy Curves (if accuracy is being monitored)\n",
    "plt.subplot(1, 2, 2)\n",
    "plt.plot(history.history['accuracy'], label='Training Accuracy')\n",
    "plt.plot(history.history['val_accuracy'], label='Validation Accuracy')\n",
    "plt.legend()\n",
    "plt.title('Accuracy Curves')\n",
    "\n",
    "plt.show()\n"
   ]
  },
  {
   "cell_type": "markdown",
   "id": "bc324f4e",
   "metadata": {},
   "source": [
    "# Step 5: Generating Text\n",
    "\n",
    "### Define the sampling function:\n",
    "\n",
    "Here's a sample function that takes the model's predictions (a probability distribution over words or characters) and a temperature. The temperature modifies the probability distribution before sampling, allowing for more random or more deterministic predictions."
   ]
  },
  {
   "cell_type": "code",
   "execution_count": 18,
   "id": "3da3d587",
   "metadata": {},
   "outputs": [],
   "source": [
    "import numpy as np\n",
    "import tensorflow as tf\n",
    "from tensorflow.keras.preprocessing.sequence import pad_sequences\n",
    "\n",
    "# Assuming your model and tokenizer are loaded:\n",
    "model = tf.keras.models.load_model('custom_llm_model.h5')\n",
    "\n",
    "# Your provided sampling function\n",
    "def sample(preds, temperature=0.5):\n",
    "    preds = np.asarray(preds[0]).astype('float64')\n",
    "    preds = np.log(preds + 1e-10) / temperature\n",
    "    exp_preds = np.exp(preds)\n",
    "    preds = exp_preds / np.sum(exp_preds)\n",
    "    probas = np.random.multinomial(1, preds, 1)\n",
    "    return np.argmax(probas)\n"
   ]
  },
  {
   "cell_type": "markdown",
   "id": "ee4782e8",
   "metadata": {},
   "source": [
    "## Generate text with sampling:\n",
    "\n",
    "Now, let's create a function to generate text sequences using the trained model and the sampling function:"
   ]
  },
  {
   "cell_type": "code",
   "execution_count": 19,
   "id": "567409ec",
   "metadata": {},
   "outputs": [],
   "source": [
    "\n",
    "# Modified text generation function\n",
    "def chatbot_response(seed_text, num_words=50, max_sequence_len=50, temperature=1.0):\n",
    "    for _ in range(num_words):\n",
    "        token_list = tokenizer.texts_to_sequences([seed_text])[0]\n",
    "        token_list = pad_sequences([token_list], maxlen=max_sequence_len, padding='pre')\n",
    "        predicted_probs = model.predict(token_list, verbose=0)\n",
    "        predicted = sample(predicted_probs, temperature=temperature)\n",
    "        \n",
    "        output_word = \"\"\n",
    "        for word, index in tokenizer.word_index.items():\n",
    "            if index == predicted:\n",
    "                output_word = word\n",
    "                break\n",
    "        seed_text += \" \" + output_word\n",
    "    return seed_text"
   ]
  },
  {
   "cell_type": "code",
   "execution_count": 21,
   "id": "fc2982d7",
   "metadata": {},
   "outputs": [
    {
     "name": "stdout",
     "output_type": "stream",
     "text": [
      "You: romeo\n",
      "Bot: romeo and to you you have to no patience.\n",
      "your you think you be fourteen;\n",
      "that shall be thee.\n",
      "\n",
      " such a light a poison of demesnes, youthful, and he is a come?\n",
      "\n",
      "servant.\n",
      "up.\n",
      "\n",
      "romeo.\n",
      "whither to me to the servants.\n",
      "\n",
      "first servant.\n",
      "where’s potpan, that that thou didst love the you love in thy sighs;\n",
      "but all but a\n",
      "You: juliet\n",
      "Bot: juliet and i and i you do you have not this not so the prayers shall be shall i come shall i say you love not the watch do you go be you their poison to go you liv’d at my many i will be a fine\n",
      "that you a gladly were\n",
      "You: quit\n"
     ]
    }
   ],
   "source": [
    "# Interact with the chatbot:\n",
    "while True:\n",
    "    user_input = input(\"You: \")\n",
    "    if user_input.lower() in [\"quit\",\"exit\", \"bye\"]:\n",
    "        break\n",
    "    response = chatbot_response(user_input)\n",
    "    print(\"Bot:\", response)"
   ]
  },
  {
   "cell_type": "code",
   "execution_count": null,
   "id": "37402cd4",
   "metadata": {},
   "outputs": [],
   "source": []
  }
 ],
 "metadata": {
  "kernelspec": {
   "display_name": "Python 3 (ipykernel)",
   "language": "python",
   "name": "python3"
  },
  "language_info": {
   "codemirror_mode": {
    "name": "ipython",
    "version": 3
   },
   "file_extension": ".py",
   "mimetype": "text/x-python",
   "name": "python",
   "nbconvert_exporter": "python",
   "pygments_lexer": "ipython3",
   "version": "3.9.7"
  }
 },
 "nbformat": 4,
 "nbformat_minor": 5
}
